{
 "cells": [
  {
   "cell_type": "markdown",
   "metadata": {},
   "source": [
    "## Introduction to recursion"
   ]
  },
  {
   "cell_type": "markdown",
   "metadata": {},
   "source": [
    "A recursive function breaks a problem down into smaller problems and calls itself for each of the smaller problems.\n",
    "\n",
    "I decribes a __base case__ (terminal case) and a __recursive case__.\n",
    "\n",
    "Typically, no calculations are computed until the base case is reached."
   ]
  },
  {
   "cell_type": "markdown",
   "metadata": {},
   "source": [
    "## Compute the factorial of a number via Recursion"
   ]
  },
  {
   "cell_type": "markdown",
   "metadata": {},
   "source": [
    "#### Concept:\n",
    "\n",
    "5! = 5 * __4 * 3 * 2 * 1__ \n",
    "\n",
    "4! = __4 * 3 * 2 * 1__\n",
    "\n",
    "5! = 5 * __4!__\n",
    "\n",
    "#### Base cases:\n",
    "\n",
    "__0! = 1__ and __1! = 1__"
   ]
  },
  {
   "cell_type": "code",
   "execution_count": 44,
   "metadata": {},
   "outputs": [],
   "source": [
    "def compute_recursive_factorial(n):\n",
    "    if n < 0:\n",
    "        print('Negative number input')\n",
    "    elif n<2:\n",
    "        print('Base Case reached: n = ' + str(n))\n",
    "        return 1 #base case\n",
    "    else:\n",
    "        print('Computing factorial for ' + str(n) + ' ...')\n",
    "        return n * compute_recursive_factorial(n-1)"
   ]
  },
  {
   "cell_type": "code",
   "execution_count": 47,
   "metadata": {},
   "outputs": [
    {
     "name": "stdout",
     "output_type": "stream",
     "text": [
      "Computing factorial for 5 ...\n",
      "Computing factorial for 4 ...\n",
      "Computing factorial for 3 ...\n",
      "Computing factorial for 2 ...\n",
      "Base Case reached: n = 1\n"
     ]
    },
    {
     "data": {
      "text/plain": [
       "120"
      ]
     },
     "execution_count": 47,
     "metadata": {},
     "output_type": "execute_result"
    }
   ],
   "source": [
    "compute_recursive_factorial(5)"
   ]
  },
  {
   "cell_type": "markdown",
   "metadata": {},
   "source": [
    "## Compute the length of a string via recursion"
   ]
  },
  {
   "cell_type": "code",
   "execution_count": 79,
   "metadata": {},
   "outputs": [],
   "source": [
    "def len_recursion(string):\n",
    "    if string:\n",
    "        print(string)\n",
    "        return 1 + len_recursion(string[0:-1])\n",
    "    else:\n",
    "        return 0"
   ]
  },
  {
   "cell_type": "code",
   "execution_count": 80,
   "metadata": {},
   "outputs": [
    {
     "name": "stdout",
     "output_type": "stream",
     "text": [
      "recursion\n",
      "recursio\n",
      "recursi\n",
      "recurs\n",
      "recur\n",
      "recu\n",
      "rec\n",
      "re\n",
      "r\n"
     ]
    },
    {
     "data": {
      "text/plain": [
       "9"
      ]
     },
     "execution_count": 80,
     "metadata": {},
     "output_type": "execute_result"
    }
   ],
   "source": [
    "len_recursion('recursion')"
   ]
  },
  {
   "cell_type": "markdown",
   "metadata": {},
   "source": [
    "## Solving the Hanoi Puzzle via Recursion"
   ]
  },
  {
   "cell_type": "markdown",
   "metadata": {},
   "source": [
    "![](recursion.jpeg)"
   ]
  },
  {
   "cell_type": "markdown",
   "metadata": {},
   "source": [
    "The Tower of Hanoi consists of three rods and a number of disks of different sizes, which can slide onto any rod.\n",
    "The puzzle starts with the disks in a neat stack in ascending order of size on one rod, the smallest at the top, thus making a conical shape.\n",
    "\n",
    "The objective of the puzzle is to move the entire stack to another rod, obeying the following simple rules:\n",
    "* Only one disk can be moved at a time.\n",
    "* Each move consists of taking the upper disk from one of the stacks and placing it on top of another stack or on an empty rod.\n",
    "* No larger disk may be placed on top of a smaller disk.\n",
    "\n",
    "(https://en.wikipedia.org/wiki/Tower_of_Hanoi)"
   ]
  },
  {
   "cell_type": "code",
   "execution_count": 10,
   "metadata": {},
   "outputs": [],
   "source": [
    "# Create Function to move a disc from start to target position\n",
    "def move(start,target):\n",
    "    print('Move 1 disc from {} to {}'.format(start, target))"
   ]
  },
  {
   "cell_type": "code",
   "execution_count": 11,
   "metadata": {},
   "outputs": [
    {
     "name": "stdout",
     "output_type": "stream",
     "text": [
      "Move 1 disc from A to C\n"
     ]
    }
   ],
   "source": [
    "# Example of move\n",
    "move('A', 'C')"
   ]
  },
  {
   "cell_type": "code",
   "execution_count": 12,
   "metadata": {},
   "outputs": [],
   "source": [
    "def hanoi_problem(number, start, helper, target):\n",
    "    if number==0:\n",
    "        pass\n",
    "    else:\n",
    "        hanoi_problem(number-1, start, target, helper)\n",
    "        move(start, target)\n",
    "        hanoi_problem(number-1,helper, start, target)"
   ]
  },
  {
   "cell_type": "code",
   "execution_count": 82,
   "metadata": {},
   "outputs": [
    {
     "name": "stdout",
     "output_type": "stream",
     "text": [
      "Move 1 disc from A to C\n",
      "Move 1 disc from A to B\n",
      "Move 1 disc from C to B\n",
      "Move 1 disc from A to C\n",
      "Move 1 disc from B to A\n",
      "Move 1 disc from B to C\n",
      "Move 1 disc from A to C\n"
     ]
    }
   ],
   "source": [
    "hanoi_problem(3, 'A', 'B', 'C')"
   ]
  }
 ],
 "metadata": {
  "kernelspec": {
   "display_name": "Python 3",
   "language": "python",
   "name": "python3"
  },
  "language_info": {
   "codemirror_mode": {
    "name": "ipython",
    "version": 3
   },
   "file_extension": ".py",
   "mimetype": "text/x-python",
   "name": "python",
   "nbconvert_exporter": "python",
   "pygments_lexer": "ipython3",
   "version": "3.7.4"
  }
 },
 "nbformat": 4,
 "nbformat_minor": 4
}
